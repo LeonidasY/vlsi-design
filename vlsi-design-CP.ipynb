{
 "cells": [
  {
   "cell_type": "code",
   "execution_count": null,
   "metadata": {},
   "outputs": [],
   "source": [
    "# !pip install -U iminizinc"
   ]
  },
  {
   "cell_type": "code",
   "execution_count": null,
   "metadata": {},
   "outputs": [],
   "source": [
    "# Import the necessary libraries\n",
    "from tqdm import tqdm\n",
    "from utils import import_instances, plot_solution, output_solution\n",
    "import time\n",
    "%reload_ext iminizinc"
   ]
  },
  {
   "cell_type": "markdown",
   "metadata": {},
   "source": [
    "## Data Import"
   ]
  },
  {
   "cell_type": "code",
   "execution_count": null,
   "metadata": {},
   "outputs": [],
   "source": [
    "# Get all instances from text files\n",
    "instances = import_instances('input/instances/')"
   ]
  },
  {
   "cell_type": "markdown",
   "metadata": {},
   "source": [
    "## Constraint Programming"
   ]
  },
  {
   "cell_type": "code",
   "execution_count": null,
   "metadata": {},
   "outputs": [],
   "source": [
    "def get_variables(NUMBER):\n",
    "    # Get the number of blocks\n",
    "    BLOCKS = []\n",
    "    for n in range(int(instances[NUMBER][1])):\n",
    "        BLOCKS.append(f'Block {n}')\n",
    "    \n",
    "    # Get block lengths and heights\n",
    "    BLOCK_WIDTHS = []\n",
    "    BLOCK_HEIGHTS = []\n",
    "\n",
    "    for value in instances[NUMBER][2:]:\n",
    "        width, height = value.split(' ')\n",
    "        BLOCK_WIDTHS.append(int(width))\n",
    "        BLOCK_HEIGHTS.append(int(height))\n",
    "    \n",
    "    # Get the maximum width and height\n",
    "    MAX_WIDTH = int(instances[NUMBER][0])\n",
    "    MAX_HEIGHT = sum(BLOCK_HEIGHTS)\n",
    "    \n",
    "    return BLOCKS, BLOCK_WIDTHS, BLOCK_HEIGHTS, MAX_WIDTH, MAX_HEIGHT"
   ]
  },
  {
   "cell_type": "code",
   "execution_count": null,
   "metadata": {},
   "outputs": [],
   "source": [
    "%%mzn_model model\n",
    "\n",
    "include \"globals.mzn\";\n",
    "\n",
    "enum BLOCKS;\n",
    "array[BLOCKS] of int: BLOCK_WIDTHS;\n",
    "array[BLOCKS] of int: BLOCK_HEIGHTS;\n",
    "\n",
    "int: MAX_WIDTH;\n",
    "int: MAX_HEIGHT;\n",
    "\n",
    "% Constraints to find y-coordinates\n",
    "array[BLOCKS] of var 0..MAX_HEIGHT: start_y;\n",
    "var 0..MAX_HEIGHT: end_y;\n",
    "\n",
    "constraint cumulative(start_y, BLOCK_HEIGHTS, BLOCK_WIDTHS, MAX_WIDTH);\n",
    "\n",
    "constraint forall(b in BLOCKS)(start_y[b] + BLOCK_HEIGHTS[b] <= end_y);\n",
    "\n",
    "% Constraints to find x-coordinates\n",
    "array[BLOCKS] of var 0..MAX_WIDTH: start_x;\n",
    "\n",
    "constraint cumulative(start_x, BLOCK_WIDTHS, BLOCK_HEIGHTS, end_y);\n",
    "\n",
    "constraint forall(b in BLOCKS)(start_x[b] + BLOCK_WIDTHS[b] <= MAX_WIDTH);\n",
    "\n",
    "solve minimize end_y;"
   ]
  },
  {
   "cell_type": "code",
   "execution_count": null,
   "metadata": {},
   "outputs": [],
   "source": [
    "# Show the solution found\n",
    "def show_solution(start_x, start_y, end_y, file=None):    \n",
    "    circuits = []\n",
    "    for i in range(len(BLOCKS)):\n",
    "        circuits.append([BLOCK_WIDTHS[i], BLOCK_HEIGHTS[i], start_x[i], start_y[i]])\n",
    "\n",
    "    plot_solution(MAX_WIDTH, end_y, len(BLOCKS), circuits, file)"
   ]
  },
  {
   "cell_type": "code",
   "execution_count": null,
   "metadata": {},
   "outputs": [],
   "source": [
    "%%mzn_model model\n",
    "\n",
    "include \"globals.mzn\";\n",
    "\n",
    "enum BLOCKS;\n",
    "array[BLOCKS] of int: BLOCK_WIDTHS;\n",
    "array[BLOCKS] of int: BLOCK_HEIGHTS;\n",
    "\n",
    "int: MAX_WIDTH;\n",
    "int: MAX_HEIGHT;\n",
    "\n",
    "% Constraints to find y-coordinates\n",
    "array[BLOCKS] of var 0..MAX_HEIGHT: start_y;\n",
    "var 0..MAX_HEIGHT: end_y;\n",
    "\n",
    "constraint cumulative(start_y, BLOCK_HEIGHTS, BLOCK_WIDTHS, MAX_WIDTH);\n",
    "\n",
    "constraint forall(b in BLOCKS)(start_y[b] + BLOCK_HEIGHTS[b] <= end_y);\n",
    "\n",
    "% Constraints to find x-coordinates\n",
    "array[BLOCKS] of var 0..MAX_WIDTH: start_x;\n",
    "\n",
    "constraint cumulative(start_x, BLOCK_WIDTHS, BLOCK_HEIGHTS, end_y);\n",
    "\n",
    "constraint forall(b in BLOCKS)(start_x[b] + BLOCK_WIDTHS[b] <= MAX_WIDTH);\n",
    "\n",
    "solve minimize end_y;"
   ]
  },
  {
   "cell_type": "code",
   "execution_count": null,
   "metadata": {},
   "outputs": [],
   "source": [
    "# Show a sample solution\n",
    "NUMBER = 0\n",
    "BLOCKS, BLOCK_WIDTHS, BLOCK_HEIGHTS, MAX_WIDTH, MAX_HEIGHT = get_variables(NUMBER)\n",
    "\n",
    "timeout = time.time() + 60*5\n",
    "%minizinc model --time-limit 300000 -m bind\n",
    "\n",
    "if time.time() >= timeout:\n",
    "    print(f'Instance-{NUMBER+1} Fail: Timeout')\n",
    "else:\n",
    "    show_solution(start_x, start_y, end_y)"
   ]
  },
  {
   "cell_type": "markdown",
   "metadata": {},
   "source": [
    "## Data Output"
   ]
  },
  {
   "cell_type": "code",
   "execution_count": null,
   "metadata": {},
   "outputs": [],
   "source": [
    "for n in tqdm(range(len(instances))):\n",
    "    NUMBER = n\n",
    "    BLOCKS, BLOCK_WIDTHS, BLOCK_HEIGHTS, MAX_WIDTH, MAX_HEIGHT = get_variables(NUMBER)\n",
    "    \n",
    "    timeout = time.time() + 60*5\n",
    "    %minizinc model --time-limit 300000 -m bind\n",
    "    \n",
    "    if time.time() >= timeout:\n",
    "        print(f'Instance-{NUMBER+1} Fail: Timeout')\n",
    "    else:\n",
    "        output_solution(instances[NUMBER], start_x, start_y, end_y, f'output/CP/solutions/out-{NUMBER+1}.txt')\n",
    "        show_solution(start_x, start_y, end_y, f'output/CP/images/out-{NUMBER+1}.png')"
   ]
  }
 ],
 "metadata": {
  "kernelspec": {
   "display_name": "Python 3",
   "language": "python",
   "name": "python3"
  },
  "language_info": {
   "codemirror_mode": {
    "name": "ipython",
    "version": 3
   },
   "file_extension": ".py",
   "mimetype": "text/x-python",
   "name": "python",
   "nbconvert_exporter": "python",
   "pygments_lexer": "ipython3",
   "version": "3.8.8"
  }
 },
 "nbformat": 4,
 "nbformat_minor": 4
}
