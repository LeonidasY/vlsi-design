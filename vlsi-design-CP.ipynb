{
 "cells": [
  {
   "cell_type": "code",
   "execution_count": 1,
   "metadata": {},
   "outputs": [],
   "source": [
    "# !pip install -U iminizinc"
   ]
  },
  {
   "cell_type": "code",
   "execution_count": 2,
   "metadata": {},
   "outputs": [
    {
     "data": {
      "application/javascript": [
       "\"use strict\";\n",
       "\n",
       "CodeMirror.defineMode(\"text/minizinc\", function(config) {\n",
       "\n",
       "  var isOperatorChar = /[+\\-*=<>\\/]/;\n",
       "\n",
       "  var keywords = {\"array\":true,\n",
       "  \"bool\":true,\n",
       "  \"case\":true,\n",
       "  \"constraint\":true,\n",
       "  \"diff\":true,\n",
       "  \"div\":true,\n",
       "  \"else\":true,\n",
       "  \"elseif\":true,\n",
       "  \"endif\":true,\n",
       "  \"enum\":true,\n",
       "  \"false\":true,\n",
       "  \"float\":true,\n",
       "  \"function\":true,\n",
       "  \"if\":true,\n",
       "  \"in\":true,\n",
       "  \"include\":true,\n",
       "  \"int\":true,\n",
       "  \"intersect\":true,\n",
       "  \"let\":true,\n",
       "  \"list\":true,\n",
       "  \"maximize\":true,\n",
       "  \"minimize\":true,\n",
       "  \"mod\":true,\n",
       "  \"not\":true,\n",
       "  \"of\":true,\n",
       "  \"op\":true,\n",
       "  \"output\":true,\n",
       "  \"par\":true,\n",
       "  \"predicate\":true,\n",
       "  \"record\":true,\n",
       "  \"satisfy\":true,\n",
       "  \"set\":true,\n",
       "  \"solve\":true,\n",
       "  \"string\":true,\n",
       "  \"subset\":true,\n",
       "  \"superset\":true,\n",
       "  \"symdiff\":true,\n",
       "  \"test\":true,\n",
       "  \"then\":true,\n",
       "  \"true\":true,\n",
       "  \"tuple\":true,\n",
       "  \"type\":true,\n",
       "  \"union\":true,\n",
       "  \"var\":true,\n",
       "  \"where\":true,\n",
       "  \"xor\":true};\n",
       "\n",
       "  var punc = \":;,.(){}[]\";\n",
       "\n",
       "  function tokenBase(stream, state) {\n",
       "    var ch = stream.next();\n",
       "    if (ch == '\"') {\n",
       "      state.tokenize.push(tokenString);\n",
       "      return tokenString(stream, state);\n",
       "    }\n",
       "    if (/[\\d\\.]/.test(ch)) {\n",
       "      if (ch == \".\") {\n",
       "        stream.match(/^[0-9]+([eE][\\-+]?[0-9]+)?/);\n",
       "      } else if (ch == \"0\") {\n",
       "        stream.match(/^[xX][0-9a-fA-F]+/) || stream.match(/^0[0-7]+/);\n",
       "      } else {\n",
       "        stream.match(/^[0-9]*\\.?[0-9]*([eE][\\-+]?[0-9]+)?/);\n",
       "      }\n",
       "      return \"number\";\n",
       "    }\n",
       "    if (ch == \"/\") {\n",
       "      if (stream.eat(\"*\")) {\n",
       "        state.tokenize.push(tokenComment);\n",
       "        return tokenComment(stream, state);\n",
       "      }\n",
       "    }\n",
       "    if (ch == \"%\") {\n",
       "      stream.skipToEnd();\n",
       "      return \"comment\";\n",
       "    }\n",
       "    if (isOperatorChar.test(ch)) {\n",
       "      stream.eatWhile(isOperatorChar);\n",
       "      return \"operator\";\n",
       "    }\n",
       "    if (punc.indexOf(ch) > -1) {\n",
       "      return \"punctuation\";\n",
       "    }\n",
       "    stream.eatWhile(/[\\w\\$_\\xa1-\\uffff]/);\n",
       "    var cur = stream.current();\n",
       "    if (keywords.propertyIsEnumerable(cur)) {\n",
       "      return \"keyword\";\n",
       "    }\n",
       "    return \"variable\";\n",
       "  }\n",
       "\n",
       "  function tokenComment(stream, state) {\n",
       "    var maybeEnd = false, ch;\n",
       "    while (ch = stream.next()) {\n",
       "      if (ch == \"/\" && maybeEnd) {\n",
       "        state.tokenize.pop();\n",
       "        break;\n",
       "      }\n",
       "      maybeEnd = (ch == \"*\");\n",
       "    }\n",
       "    return \"comment\";\n",
       "  }\n",
       "\n",
       "  function tokenUntilClosingParen() {\n",
       "    var depth = 0;\n",
       "    return function(stream, state, prev) {\n",
       "      var inner = tokenBase(stream, state, prev);\n",
       "      console.log(\"untilClosing\",inner,stream.current());\n",
       "      if (inner == \"punctuation\") {\n",
       "        if (stream.current() == \"(\") {\n",
       "          ++depth;\n",
       "        } else if (stream.current() == \")\") {\n",
       "          if (depth == 0) {\n",
       "            stream.backUp(1)\n",
       "            state.tokenize.pop()\n",
       "            return state.tokenize[state.tokenize.length - 1](stream, state)\n",
       "          } else {\n",
       "            --depth;\n",
       "          }\n",
       "        }\n",
       "      }\n",
       "      return inner;\n",
       "    }\n",
       "  }\n",
       "\n",
       "  function tokenString(stream, state) {\n",
       "    var escaped = false, next, end = false;\n",
       "    while ((next = stream.next()) != null) {\n",
       "      if (next=='(' && escaped) {\n",
       "        state.tokenize.push(tokenUntilClosingParen());\n",
       "        return \"string\";\n",
       "      }\n",
       "      if (next == '\"' && !escaped) {end = true; break;}\n",
       "      escaped = !escaped && next == \"\\\\\";\n",
       "    }\n",
       "    if (end || !escaped)\n",
       "      state.tokenize.pop();\n",
       "    return \"string\";\n",
       "  }\n",
       "\n",
       "  return {\n",
       "    startState: function(basecolumn) {\n",
       "      return {\n",
       "        tokenize: []\n",
       "      };\n",
       "    },\n",
       "\n",
       "    token: function(stream, state) {\n",
       "      if (stream.eatSpace()) return null;\n",
       "      var style = (state.tokenize[state.tokenize.length - 1] || tokenBase)(stream, state);\n",
       "      console.log(\"token\",style);\n",
       "      return style;\n",
       "    },\n",
       "\n",
       "    blockCommentStart: \"/*\",\n",
       "    blockCommentEnd: \"*/\",\n",
       "    lineComment: \"%\"\n",
       "  };\n",
       "});\n",
       "\n",
       "CodeMirror.defineMIME(\"text/minizinc\", \"text/minizinc\");\n",
       "\n",
       "Jupyter.CodeCell.options_default.highlight_modes['magic_text/minizinc'] = {'reg':[/^%%minizinc/]} ;\n",
       "\n",
       "Jupyter.notebook.get_cells().map(function(cell){\n",
       "  if (cell.cell_type == 'code'){ cell.auto_highlight(); }\n",
       "}) ;\n"
      ],
      "text/plain": [
       "<IPython.core.display.Javascript object>"
      ]
     },
     "metadata": {},
     "output_type": "display_data"
    },
    {
     "name": "stdout",
     "output_type": "stream",
     "text": [
      "MiniZinc to FlatZinc converter, version 2.5.5, build 273041792\r\n",
      "Copyright (C) 2014-2021 Monash University, NICTA, Data61\n"
     ]
    }
   ],
   "source": [
    "# Import the necessary libraries\n",
    "from tqdm import tqdm\n",
    "from utils import import_instances, plot_solution, output_solution\n",
    "import time\n",
    "%reload_ext iminizinc"
   ]
  },
  {
   "cell_type": "markdown",
   "metadata": {},
   "source": [
    "## Data Import"
   ]
  },
  {
   "cell_type": "code",
   "execution_count": 3,
   "metadata": {},
   "outputs": [
    {
     "name": "stdout",
     "output_type": "stream",
     "text": [
      "['ins-1.txt', 'ins-2.txt', 'ins-3.txt', 'ins-4.txt', 'ins-5.txt', 'ins-6.txt', 'ins-7.txt', 'ins-8.txt', 'ins-9.txt', 'ins-10.txt', 'ins-11.txt', 'ins-12.txt', 'ins-13.txt', 'ins-14.txt', 'ins-15.txt', 'ins-16.txt', 'ins-17.txt', 'ins-18.txt', 'ins-19.txt', 'ins-20.txt', 'ins-21.txt', 'ins-22.txt', 'ins-23.txt', 'ins-24.txt', 'ins-25.txt', 'ins-26.txt', 'ins-27.txt', 'ins-28.txt', 'ins-29.txt', 'ins-30.txt', 'ins-31.txt', 'ins-32.txt', 'ins-33.txt', 'ins-34.txt', 'ins-35.txt', 'ins-36.txt', 'ins-37.txt', 'ins-38.txt', 'ins-39.txt', 'ins-40.txt']\n"
     ]
    }
   ],
   "source": [
    "# Get all instances from text files\n",
    "instances = import_instances('input/instances/')"
   ]
  },
  {
   "cell_type": "markdown",
   "metadata": {},
   "source": [
    "## Constraint Programming"
   ]
  },
  {
   "cell_type": "code",
   "execution_count": 4,
   "metadata": {},
   "outputs": [],
   "source": [
    "def get_variables(NUMBER):\n",
    "    # Get the number of blocks\n",
    "    BLOCKS = []\n",
    "    for n in range(int(instances[NUMBER][1])):\n",
    "        BLOCKS.append(f'Block {n}')\n",
    "    \n",
    "    # Get block lengths and heights\n",
    "    BLOCK_WIDTHS = []\n",
    "    BLOCK_HEIGHTS = []\n",
    "\n",
    "    for value in instances[NUMBER][2:]:\n",
    "        width, height = value.split(' ')\n",
    "        BLOCK_WIDTHS.append(int(width))\n",
    "        BLOCK_HEIGHTS.append(int(height))\n",
    "    \n",
    "    # Get the maximum width and height\n",
    "    MAX_WIDTH = int(instances[NUMBER][0])\n",
    "    \n",
    "    TOTAL_AREA = 0\n",
    "    for n in range(int(instances[NUMBER][1])):\n",
    "        TOTAL_AREA += BLOCK_WIDTHS[n] * BLOCK_HEIGHTS[n]\n",
    "    MAX_HEIGHT = TOTAL_AREA // MAX_WIDTH\n",
    "    \n",
    "    return BLOCKS, BLOCK_WIDTHS, BLOCK_HEIGHTS, MAX_WIDTH, MAX_HEIGHT"
   ]
  },
  {
   "cell_type": "code",
   "execution_count": 5,
   "metadata": {},
   "outputs": [],
   "source": [
    "# Show the solution found\n",
    "def show_solution(start_x, start_y, file=None):    \n",
    "    circuits = []\n",
    "    for i in range(len(BLOCKS)):\n",
    "        circuits.append([BLOCK_WIDTHS[i], BLOCK_HEIGHTS[i], start_x[i], start_y[i]])\n",
    "\n",
    "    plot_solution(MAX_WIDTH, MAX_HEIGHT, len(BLOCKS), circuits, file)"
   ]
  },
  {
   "cell_type": "code",
   "execution_count": 6,
   "metadata": {},
   "outputs": [],
   "source": [
    "%%mzn_model model\n",
    "\n",
    "include \"globals.mzn\";\n",
    "\n",
    "enum BLOCKS;\n",
    "array[BLOCKS] of int: BLOCK_WIDTHS;\n",
    "array[BLOCKS] of int: BLOCK_HEIGHTS;\n",
    "\n",
    "int: MAX_WIDTH;\n",
    "int: MAX_HEIGHT;\n",
    "    \n",
    "% Constraints to find x-coordinates\n",
    "array[BLOCKS] of var 0..MAX_WIDTH: start_x;\n",
    "\n",
    "constraint cumulative(start_x, BLOCK_WIDTHS, BLOCK_HEIGHTS, MAX_HEIGHT);\n",
    "\n",
    "constraint forall(b in BLOCKS)(start_x[b] + BLOCK_WIDTHS[b] <= MAX_WIDTH);\n",
    "\n",
    "% Constraints to find y-coordinates\n",
    "array[BLOCKS] of var 0..MAX_HEIGHT: start_y;\n",
    "\n",
    "constraint cumulative(start_y, BLOCK_HEIGHTS, BLOCK_WIDTHS, MAX_WIDTH);\n",
    "\n",
    "constraint forall(b in BLOCKS)(start_y[b] + BLOCK_HEIGHTS[b] <= MAX_HEIGHT);\n",
    "\n",
    "% Symmetry breaking\n",
    "constraint diffn(start_x, start_y, BLOCK_WIDTHS, BLOCK_HEIGHTS);\n",
    "\n",
    "solve :: seq_search([int_search(start_x, dom_w_deg, indomain_split), \n",
    "                     int_search(start_y, dom_w_deg, indomain_split)])satisfy;"
   ]
  },
  {
   "cell_type": "code",
   "execution_count": 7,
   "metadata": {},
   "outputs": [
    {
     "data": {
      "image/png": "[encoded data removed]",
      "text/plain": [
       "<Figure size 360x360 with 1 Axes>"
      ]
     },
     "metadata": {
      "needs_background": "light"
     },
     "output_type": "display_data"
    }
   ],
   "source": [
    "# Show a sample solution\n",
    "NUMBER = 0\n",
    "BLOCKS, BLOCK_WIDTHS, BLOCK_HEIGHTS, MAX_WIDTH, MAX_HEIGHT = get_variables(NUMBER)\n",
    "\n",
    "timeout = time.time() + 60*5\n",
    "%minizinc model --time-limit 300000 -m bind\n",
    "\n",
    "if time.time() >= timeout:\n",
    "    print(f'Instance-{NUMBER+1} Fail: Timeout')\n",
    "else:\n",
    "    show_solution(start_x, start_y)"
   ]
  },
  {
   "cell_type": "markdown",
   "metadata": {},
   "source": [
    "## Data Output"
   ]
  },
  {
   "cell_type": "code",
   "execution_count": 8,
   "metadata": {},
   "outputs": [
    {
     "name": "stderr",
     "output_type": "stream",
     "text": [
      " 40%|████████████████████████████████▊                                                 | 16/40 [06:52<38:34, 96.45s/it]"
     ]
    },
    {
     "name": "stdout",
     "output_type": "stream",
     "text": [
      "Solver output:\n",
      "No solution has been found\n",
      "No solutions found\n",
      "Instance-16 Fail: Timeout\n"
     ]
    },
    {
     "name": "stderr",
     "output_type": "stream",
     "text": [
      " 55%|████████████████████████████████████████████▌                                    | 22/40 [14:21<35:05, 116.97s/it]"
     ]
    },
    {
     "name": "stdout",
     "output_type": "stream",
     "text": [
      "Solver output:\n",
      "No solution has been found\n",
      "No solutions found\n",
      "Instance-22 Fail: Timeout\n"
     ]
    },
    {
     "name": "stderr",
     "output_type": "stream",
     "text": [
      " 62%|██████████████████████████████████████████████████▋                              | 25/40 [19:39<33:21, 133.45s/it]"
     ]
    },
    {
     "name": "stdout",
     "output_type": "stream",
     "text": [
      "Solver output:\n",
      "No solution has been found\n",
      "No solutions found\n",
      "Instance-25 Fail: Timeout\n"
     ]
    },
    {
     "name": "stderr",
     "output_type": "stream",
     "text": [
      "\r",
      " 65%|████████████████████████████████████████████████████▋                            | 26/40 [24:42<42:59, 184.28s/it]"
     ]
    },
    {
     "name": "stdout",
     "output_type": "stream",
     "text": [
      "Solver output:\n",
      "No solution has been found\n",
      "No solutions found\n",
      "Instance-26 Fail: Timeout\n"
     ]
    },
    {
     "name": "stderr",
     "output_type": "stream",
     "text": [
      " 75%|████████████████████████████████████████████████████████████▊                    | 30/40 [30:03<22:58, 137.81s/it]"
     ]
    },
    {
     "name": "stdout",
     "output_type": "stream",
     "text": [
      "Solver output:\n",
      "No solution has been found\n",
      "No solutions found\n",
      "Instance-30 Fail: Timeout\n"
     ]
    },
    {
     "name": "stderr",
     "output_type": "stream",
     "text": [
      " 80%|████████████████████████████████████████████████████████████████▊                | 32/40 [36:41<23:46, 178.32s/it]"
     ]
    },
    {
     "name": "stdout",
     "output_type": "stream",
     "text": [
      "Solver output:\n",
      "No solution has been found\n",
      "No solutions found\n",
      "Instance-32 Fail: Timeout\n"
     ]
    },
    {
     "name": "stderr",
     "output_type": "stream",
     "text": [
      " 85%|████████████████████████████████████████████████████████████████████▊            | 34/40 [41:50<17:55, 179.29s/it]"
     ]
    },
    {
     "name": "stdout",
     "output_type": "stream",
     "text": [
      "Solver output:\n",
      "No solution has been found\n",
      "No solutions found\n",
      "Instance-34 Fail: Timeout\n"
     ]
    },
    {
     "name": "stderr",
     "output_type": "stream",
     "text": [
      "\r",
      " 88%|██████████████████████████████████████████████████████████████████████▉          | 35/40 [46:56<18:07, 217.50s/it]"
     ]
    },
    {
     "name": "stdout",
     "output_type": "stream",
     "text": [
      "Solver output:\n",
      "No solution has been found\n",
      "No solutions found\n",
      "Instance-35 Fail: Timeout\n"
     ]
    },
    {
     "name": "stderr",
     "output_type": "stream",
     "text": [
      "\r",
      " 90%|████████████████████████████████████████████████████████████████████████▉        | 36/40 [51:58<16:11, 242.82s/it]"
     ]
    },
    {
     "name": "stdout",
     "output_type": "stream",
     "text": [
      "Solver output:\n",
      "No solution has been found\n",
      "No solutions found\n",
      "Instance-36 Fail: Timeout\n"
     ]
    },
    {
     "name": "stderr",
     "output_type": "stream",
     "text": [
      "\r",
      " 92%|██████████████████████████████████████████████████████████████████████████▉      | 37/40 [57:00<13:01, 260.57s/it]"
     ]
    },
    {
     "name": "stdout",
     "output_type": "stream",
     "text": [
      "Solver output:\n",
      "No solution has been found\n",
      "No solutions found\n",
      "Instance-37 Fail: Timeout\n"
     ]
    },
    {
     "name": "stderr",
     "output_type": "stream",
     "text": [
      "\r",
      " 95%|███████████████████████████████████████████████████████████████████████████    | 38/40 [1:02:02<09:05, 272.97s/it]"
     ]
    },
    {
     "name": "stdout",
     "output_type": "stream",
     "text": [
      "Solver output:\n",
      "No solution has been found\n",
      "No solutions found\n",
      "Instance-38 Fail: Timeout\n"
     ]
    },
    {
     "name": "stderr",
     "output_type": "stream",
     "text": [
      "100%|███████████████████████████████████████████████████████████████████████████████| 40/40 [1:08:07<00:00, 102.19s/it]"
     ]
    },
    {
     "name": "stdout",
     "output_type": "stream",
     "text": [
      "Solver output:\n",
      "No solution has been found\n",
      "No solutions found\n",
      "Instance-40 Fail: Timeout\n"
     ]
    },
    {
     "name": "stderr",
     "output_type": "stream",
     "text": [
      "\n"
     ]
    }
   ],
   "source": [
    "for n in tqdm(range(len(instances))):\n",
    "    NUMBER = n\n",
    "    BLOCKS, BLOCK_WIDTHS, BLOCK_HEIGHTS, MAX_WIDTH, MAX_HEIGHT = get_variables(NUMBER)\n",
    "    \n",
    "    timeout = time.time() + 60*5\n",
    "    %minizinc model --time-limit 300000 -m bind\n",
    "    \n",
    "    if time.time() >= timeout:\n",
    "        print(f'Instance-{NUMBER+1} Fail: Timeout')\n",
    "    else:\n",
    "        output_solution(instances[NUMBER], start_x, start_y, MAX_HEIGHT, f'output/CP/solutions/out-{NUMBER+1}.txt')\n",
    "        show_solution(start_x, start_y, f'output/CP/images/out-{NUMBER+1}.png')"
   ]
  }
 ],
 "metadata": {
  "kernelspec": {
   "display_name": "Python 3",
   "language": "python",
   "name": "python3"
  },
  "language_info": {
   "codemirror_mode": {
    "name": "ipython",
    "version": 3
   },
   "file_extension": ".py",
   "mimetype": "text/x-python",
   "name": "python",
   "nbconvert_exporter": "python",
   "pygments_lexer": "ipython3",
   "version": "3.8.8"
  }
 },
 "nbformat": 4,
 "nbformat_minor": 4
}
