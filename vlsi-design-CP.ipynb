{
 "cells": [
  {
   "cell_type": "code",
   "execution_count": null,
   "metadata": {},
   "outputs": [],
   "source": [
    "# !pip install -U iminizinc"
   ]
  },
  {
   "cell_type": "code",
   "execution_count": null,
   "metadata": {},
   "outputs": [],
   "source": [
    "# Import the necessary libraries\n",
    "import os\n",
    "%reload_ext iminizinc\n",
    "from utils import import_instances, plot_solution"
   ]
  },
  {
   "cell_type": "markdown",
   "metadata": {},
   "source": [
    "## Data Import"
   ]
  },
  {
   "cell_type": "code",
   "execution_count": null,
   "metadata": {},
   "outputs": [],
   "source": [
    "# Get all instances from text files\n",
    "instances = import_instances('input/instances/')\n",
    "print(f'Number of instances: {len(instances)}')"
   ]
  },
  {
   "cell_type": "markdown",
   "metadata": {},
   "source": [
    "## Constraint Programming"
   ]
  },
  {
   "cell_type": "code",
   "execution_count": null,
   "metadata": {},
   "outputs": [],
   "source": [
    "NUMBER = 4"
   ]
  },
  {
   "cell_type": "code",
   "execution_count": null,
   "metadata": {},
   "outputs": [],
   "source": [
    "# Get the number of blocks\n",
    "BLOCKS = []\n",
    "for n in range(int(instances[NUMBER][1])):\n",
    "    BLOCKS.append(f'Block {n}')\n",
    "\n",
    "print(f'Blocks: {BLOCKS}')"
   ]
  },
  {
   "cell_type": "code",
   "execution_count": null,
   "metadata": {},
   "outputs": [],
   "source": [
    "# Get block lengths and heights\n",
    "BLOCK_WIDTHS = []\n",
    "BLOCK_HEIGHTS = []\n",
    "\n",
    "for value in instances[NUMBER][2:]:\n",
    "    width, height = value.split(' ')\n",
    "    BLOCK_WIDTHS.append(int(width))\n",
    "    BLOCK_HEIGHTS.append(int(height))\n",
    "    \n",
    "print(f'Block widths: {BLOCK_WIDTHS}')\n",
    "print(f'Block heights: {BLOCK_HEIGHTS}')"
   ]
  },
  {
   "cell_type": "code",
   "execution_count": null,
   "metadata": {},
   "outputs": [],
   "source": [
    "# Get the maximum width and height\n",
    "MAX_WIDTH = int(instances[NUMBER][0])\n",
    "MAX_HEIGHT = sum(BLOCK_HEIGHTS)\n",
    "\n",
    "print(f'Maximum width: {MAX_WIDTH}')\n",
    "print(f'Maximum height: {MAX_HEIGHT}')"
   ]
  },
  {
   "cell_type": "code",
   "execution_count": null,
   "metadata": {},
   "outputs": [],
   "source": [
    "%%minizinc -m bind\n",
    "\n",
    "include \"globals.mzn\";\n",
    "\n",
    "enum BLOCKS;\n",
    "array[BLOCKS] of int: BLOCK_WIDTHS;\n",
    "array[BLOCKS] of int: BLOCK_HEIGHTS;\n",
    "\n",
    "int: MAX_WIDTH;\n",
    "int: MAX_HEIGHT;\n",
    "\n",
    "% Constraints to find y-coordinates\n",
    "array[BLOCKS] of var 0..MAX_HEIGHT: start_y;\n",
    "var 0..MAX_HEIGHT: end_y;\n",
    "\n",
    "constraint cumulative(start_y, BLOCK_HEIGHTS, BLOCK_WIDTHS, MAX_WIDTH);\n",
    "\n",
    "constraint forall(b in BLOCKS)(start_y[b] + BLOCK_HEIGHTS[b] <= end_y);\n",
    "\n",
    "% Constraints to find x-coordinates\n",
    "array[BLOCKS] of var 0..MAX_WIDTH: start_x;\n",
    "\n",
    "constraint cumulative(start_x, BLOCK_WIDTHS, BLOCK_HEIGHTS, end_y);\n",
    "\n",
    "constraint forall(b in BLOCKS)(start_x[b] + BLOCK_WIDTHS[b] <= MAX_WIDTH);\n",
    "\n",
    "solve minimize end_y;"
   ]
  },
  {
   "cell_type": "code",
   "execution_count": null,
   "metadata": {},
   "outputs": [],
   "source": [
    "# Output\n",
    "print(f'Minimum height: {end_y}')\n",
    "print(f'Location x: {start_x}')\n",
    "print(f'Location y: {start_y}')"
   ]
  },
  {
   "cell_type": "code",
   "execution_count": null,
   "metadata": {},
   "outputs": [],
   "source": [
    "# Plot the solution found\n",
    "circuits = []\n",
    "for i in range(len(BLOCKS)):\n",
    "    circuits.append([BLOCK_WIDTHS[i], BLOCK_HEIGHTS[i], start_x[i], start_y[i]])\n",
    "    \n",
    "plot_solution(MAX_WIDTH, end_y, len(BLOCKS), circuits)"
   ]
  },
  {
   "cell_type": "markdown",
   "metadata": {},
   "source": [
    "## Data Output"
   ]
  },
  {
   "cell_type": "code",
   "execution_count": null,
   "metadata": {},
   "outputs": [],
   "source": [
    "# Append the solution to the initial details\n",
    "solution = []\n",
    "for i, x in enumerate(instances[NUMBER]):\n",
    "    if i == 0:\n",
    "        solution.append(x + ' ' + str(end_y))\n",
    "    elif i == 1:\n",
    "        solution.append(x)\n",
    "    else:\n",
    "        solution.append(x + ' ' + str(start_x[i-2]) + ' ' + str(start_y[i-2]))\n",
    "        \n",
    "print(solution)"
   ]
  },
  {
   "cell_type": "code",
   "execution_count": null,
   "metadata": {},
   "outputs": [],
   "source": [
    "# Write the solution to a text file\n",
    "with open(f'output/cp/out-{NUMBER}.txt', 'w') as output:\n",
    "    for item in solution:\n",
    "        output.write(item)\n",
    "        output.write('\\n')"
   ]
  }
 ],
 "metadata": {
  "kernelspec": {
   "display_name": "Python 3",
   "language": "python",
   "name": "python3"
  },
  "language_info": {
   "codemirror_mode": {
    "name": "ipython",
    "version": 3
   },
   "file_extension": ".py",
   "mimetype": "text/x-python",
   "name": "python",
   "nbconvert_exporter": "python",
   "pygments_lexer": "ipython3",
   "version": "3.8.8"
  }
 },
 "nbformat": 4,
 "nbformat_minor": 4
}
