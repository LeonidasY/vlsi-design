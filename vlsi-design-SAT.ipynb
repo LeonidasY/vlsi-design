{
    "cells": [
        {
            "cell_type": "code",
            "execution_count": 45,
            "source": [
                "#!pip install z3-solver"
            ],
            "outputs": [],
            "metadata": {}
        },
        {
            "cell_type": "code",
            "execution_count": 46,
            "source": [
                "from itertools import combinations\r\n",
                "from utils import import_instances, plot_solution, output_solution\r\n",
                "from z3 import *\r\n",
                "import os"
            ],
            "outputs": [],
            "metadata": {}
        },
        {
            "cell_type": "markdown",
            "source": [
                "## Data Import"
            ],
            "metadata": {}
        },
        {
            "cell_type": "code",
            "execution_count": 47,
            "source": [
                "# Get all instances from text files\r\n",
                "instances = import_instances('input/instances/')"
            ],
            "outputs": [
                {
                    "output_type": "stream",
                    "name": "stdout",
                    "text": [
                        "['ins-1.txt', 'ins-2.txt', 'ins-3.txt', 'ins-4.txt', 'ins-5.txt', 'ins-6.txt', 'ins-7.txt', 'ins-8.txt', 'ins-9.txt', 'ins-10.txt', 'ins-11.txt', 'ins-12.txt', 'ins-13.txt', 'ins-14.txt', 'ins-15.txt', 'ins-16.txt', 'ins-17.txt', 'ins-18.txt', 'ins-19.txt', 'ins-20.txt', 'ins-21.txt', 'ins-22.txt', 'ins-23.txt', 'ins-24.txt', 'ins-25.txt', 'ins-26.txt', 'ins-27.txt', 'ins-28.txt', 'ins-29.txt', 'ins-30.txt', 'ins-31.txt', 'ins-32.txt', 'ins-33.txt', 'ins-34.txt', 'ins-35.txt', 'ins-36.txt', 'ins-37.txt', 'ins-38.txt', 'ins-39.txt', 'ins-40.txt']\n"
                    ]
                }
            ],
            "metadata": {}
        },
        {
            "cell_type": "markdown",
            "source": [
                "## SAT"
            ],
            "metadata": {}
        },
        {
            "cell_type": "code",
            "execution_count": 48,
            "source": [
                "# Functions\r\n",
                "def at_least_one(bool_vars):\r\n",
                "    return Or(bool_vars)\r\n",
                "\r\n",
                "def at_most_one(bool_vars):\r\n",
                "    return [Not(And(pair[0], pair[1])) for pair in combinations(bool_vars, 2)]\r\n",
                "\r\n",
                "def exactly_one(solver, bool_vars):\r\n",
                "    solver.add(at_most_one(bool_vars))\r\n",
                "    solver.add(at_least_one(bool_vars))\r\n",
                "\r\n",
                "#heighth calculator\r\n",
                "def get_variables(NUMBER):\r\n",
                "    # Get the number of blocks\r\n",
                "    BLOCKS = []\r\n",
                "    for n in range(int(instances[NUMBER][1])):\r\n",
                "        BLOCKS.append(f'Block {n}')\r\n",
                "    \r\n",
                "    # Get block lengths and heights\r\n",
                "    BLOCK_WIDTHS = []\r\n",
                "    BLOCK_HEIGHTS = []\r\n",
                "\r\n",
                "    for value in instances[NUMBER][2:]:\r\n",
                "        width, height = value.split(' ')\r\n",
                "        BLOCK_WIDTHS.append(int(width))\r\n",
                "        BLOCK_HEIGHTS.append(int(height))\r\n",
                "    \r\n",
                "    # Get the maximum width and height\r\n",
                "    MAX_WIDTH = int(instances[NUMBER][0])\r\n",
                "    MAX_HEIGHT = sum(BLOCK_HEIGHTS)\r\n",
                "    \r\n",
                "    return BLOCKS, BLOCK_WIDTHS, BLOCK_HEIGHTS, MAX_WIDTH, MAX_HEIGHT"
            ],
            "outputs": [],
            "metadata": {}
        },
        {
            "cell_type": "code",
            "execution_count": 51,
            "source": [
                "NUMBER = 0\r\n",
                "BLOCKS, BLOCK_WIDTHS, BLOCK_HEIGHTS, MAX_WIDTH, MAX_HEIGHT = get_variables(NUMBER)\r\n",
                "\r\n",
                "BLOCKS_NUMBER = len(BLOCKS)\r\n",
                "WIDTH = int(instances[0][0])\r\n",
                "# All the variables we need.\r\n",
                "v= [[[Bool(f\"v_{i}_{j}_{k}\") for k in range(BLOCKS_NUMBER)] for j in range(MAX_HEIGHT)] for i in range(WIDTH)]\r\n",
                "s = Solver()\r\n",
                "\r\n"
            ],
            "outputs": [],
            "metadata": {}
        },
        {
            "cell_type": "code",
            "execution_count": null,
            "source": [
                "#to implement later\r\n",
                "def vlsi_sat():\r\n",
                "\r\n",
                "time = 1 # in milliseconds\r\n",
                "s.set(timeout=time)\r\n",
                "\r\n",
                "if s.check() == sat:\r\n",
                "    print(s.model())\r\n",
                "elif s.reason_unknown() == \"timeout\":\r\n",
                "    print(\"Solver timeout\")\r\n",
                "else:\r\n",
                "    print(\"Failed to solve\")"
            ],
            "outputs": [
                {
                    "output_type": "error",
                    "ename": "IndentationError",
                    "evalue": "expected an indented block (<ipython-input-16-345c5d32b39f>, line 5)",
                    "traceback": [
                        "\u001b[1;36m  File \u001b[1;32m\"<ipython-input-16-345c5d32b39f>\"\u001b[1;36m, line \u001b[1;32m5\u001b[0m\n\u001b[1;33m    time = 1 # in milliseconds\u001b[0m\n\u001b[1;37m    ^\u001b[0m\n\u001b[1;31mIndentationError\u001b[0m\u001b[1;31m:\u001b[0m expected an indented block\n"
                    ]
                }
            ],
            "metadata": {}
        },
        {
            "cell_type": "markdown",
            "source": [
                "## Data Output"
            ],
            "metadata": {}
        },
        {
            "cell_type": "code",
            "execution_count": null,
            "source": [
                "for n in tqdm(range(len(instances))):\r\n",
                "    NUMBER = n\r\n",
                "    BLOCKS, BLOCK_WIDTHS, BLOCK_HEIGHTS, MAX_WIDTH, MAX_HEIGHT = get_variables(NUMBER)\r\n",
                "    %minizinc model -m bind\r\n",
                "    output_solution(f'output/cp/out-{NUMBER}.txt', instances[NUMBER], start_x, start_y, end_y)"
            ],
            "outputs": [],
            "metadata": {}
        }
    ],
    "metadata": {
        "orig_nbformat": 4,
        "language_info": {
            "name": "python",
            "version": "3.8.5",
            "mimetype": "text/x-python",
            "codemirror_mode": {
                "name": "ipython",
                "version": 3
            },
            "pygments_lexer": "ipython3",
            "nbconvert_exporter": "python",
            "file_extension": ".py"
        },
        "kernelspec": {
            "name": "python3",
            "display_name": "Python 3.8.5 64-bit ('base': conda)"
        },
        "interpreter": {
            "hash": "cfb3fa0d583c6e1a35f96ea85bd13c3d52c4920039624ca9ab692c5f27068e9b"
        }
    },
    "nbformat": 4,
    "nbformat_minor": 2
}