{
    "cells": [
        {
            "cell_type": "code",
            "execution_count": null,
            "source": [
                "#!pip install z3-solver"
            ],
            "outputs": [],
            "metadata": {}
        },
        {
            "cell_type": "code",
            "execution_count": 10,
            "source": [
                "from itertools import combinations\r\n",
                "from z3 import *\r\n",
                "import os"
            ],
            "outputs": [],
            "metadata": {}
        },
        {
            "cell_type": "code",
            "execution_count": 11,
            "source": [
                "# Functions\r\n",
                "def at_least_one(bool_vars):\r\n",
                "    return Or(bool_vars)\r\n",
                "\r\n",
                "def at_most_one(bool_vars):\r\n",
                "    return [Not(And(pair[0], pair[1])) for pair in combinations(bool_vars, 2)]\r\n",
                "\r\n",
                "def exactly_one(solver, bool_vars):\r\n",
                "    solver.add(at_most_one(bool_vars))\r\n",
                "    solver.add(at_least_one(bool_vars))"
            ],
            "outputs": [],
            "metadata": {}
        }
    ],
    "metadata": {
        "orig_nbformat": 4,
        "language_info": {
            "name": "python",
            "version": "3.8.5",
            "mimetype": "text/x-python",
            "codemirror_mode": {
                "name": "ipython",
                "version": 3
            },
            "pygments_lexer": "ipython3",
            "nbconvert_exporter": "python",
            "file_extension": ".py"
        },
        "kernelspec": {
            "name": "python3",
            "display_name": "Python 3.8.5 64-bit ('base': conda)"
        },
        "interpreter": {
            "hash": "cfb3fa0d583c6e1a35f96ea85bd13c3d52c4920039624ca9ab692c5f27068e9b"
        }
    },
    "nbformat": 4,
    "nbformat_minor": 2
}