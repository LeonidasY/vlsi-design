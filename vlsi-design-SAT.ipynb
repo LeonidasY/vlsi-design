{
    "cells": [
        {
            "cell_type": "code",
            "execution_count": 81,
            "source": [
                "#!pip install z3-solver"
            ],
            "outputs": [],
            "metadata": {}
        },
        {
            "cell_type": "code",
            "execution_count": 82,
            "source": [
                "from itertools import combinations\r\n",
                "from utils import import_instances, plot_solution, output_solution\r\n",
                "from z3 import *"
            ],
            "outputs": [],
            "metadata": {}
        },
        {
            "cell_type": "markdown",
            "source": [
                "## Data Import"
            ],
            "metadata": {}
        },
        {
            "cell_type": "code",
            "execution_count": 83,
            "source": [
                "# Get all instances from text files\r\n",
                "instances = import_instances('input/instances/')"
            ],
            "outputs": [
                {
                    "output_type": "stream",
                    "name": "stdout",
                    "text": [
                        "['ins-1.txt', 'ins-2.txt', 'ins-3.txt', 'ins-4.txt', 'ins-5.txt', 'ins-6.txt', 'ins-7.txt', 'ins-8.txt', 'ins-9.txt', 'ins-10.txt', 'ins-11.txt', 'ins-12.txt', 'ins-13.txt', 'ins-14.txt', 'ins-15.txt', 'ins-16.txt', 'ins-17.txt', 'ins-18.txt', 'ins-19.txt', 'ins-20.txt', 'ins-21.txt', 'ins-22.txt', 'ins-23.txt', 'ins-24.txt', 'ins-25.txt', 'ins-26.txt', 'ins-27.txt', 'ins-28.txt', 'ins-29.txt', 'ins-30.txt', 'ins-31.txt', 'ins-32.txt', 'ins-33.txt', 'ins-34.txt', 'ins-35.txt', 'ins-36.txt', 'ins-37.txt', 'ins-38.txt', 'ins-39.txt', 'ins-40.txt']\n"
                    ]
                }
            ],
            "metadata": {}
        },
        {
            "cell_type": "markdown",
            "source": [
                "## SAT"
            ],
            "metadata": {}
        },
        {
            "cell_type": "code",
            "execution_count": 84,
            "source": [
                "# Functions\r\n",
                "def at_least_one(bool_vars):\r\n",
                "    return Or(bool_vars)\r\n",
                "\r\n",
                "def at_most_one(bool_vars):\r\n",
                "    return [Not(And(pair[0], pair[1])) for pair in combinations(bool_vars, 2)]\r\n",
                "\r\n",
                "def exactly_one(solver, bool_vars):\r\n",
                "    solver.add(at_most_one(bool_vars))\r\n",
                "    solver.add(at_least_one(bool_vars))\r\n",
                "\r\n",
                "def get_variables(instance_number):\r\n",
                "    # Get the number of blocks\r\n",
                "    number_of_blocks = int(instances[instance_number][1])\r\n",
                "    \r\n",
                "    # Get block lengths and heights\r\n",
                "    blocks_width = []\r\n",
                "    blocks_height = []\r\n",
                "\r\n",
                "    for value in instances[instance_number][2:]:\r\n",
                "        width, height = value.split(' ')\r\n",
                "        blocks_width.append(int(width))\r\n",
                "        blocks_height.append(int(height))  \r\n",
                "\r\n",
                "    width = int(instances[instance_number][0])\r\n",
                "    return number_of_blocks, blocks_width, blocks_height, width\r\n"
            ],
            "outputs": [],
            "metadata": {}
        },
        {
            "cell_type": "code",
            "execution_count": 85,
            "source": [
                "def vlsi(s, height):\r\n",
                "    # Variables\r\n",
                "    p = [[[Bool(f\"x_{i}_{j}_{n}\") for n in range((2* number_of_blocks) + 1)] for j in range(height)] for i in range(width)]\r\n",
                "\r\n",
                "    # A cell has only one value\r\n",
                "    for i in range(width):\r\n",
                "        for j in range(height):\r\n",
                "            exactly_one(s, p[i][j])\r\n",
                "\r\n",
                "    for n in range(number_of_blocks):\r\n",
                "        # A circuit has only one position\r\n",
                "        exactly_one(s, [p[i][j][n] for i in range(width) for j in range(height)])\r\n",
                "\r\n",
                "        # A circuit stays inside the plane\r\n",
                "        s.add(at_least_one([p[i][j][n] for i in range(width - blocks_width[n] + 1) for j in range(height - blocks_height[n] + 1)]))\r\n",
                "\r\n",
                "    # The circuits can't overlap\r\n",
                "    for n in range(number_of_blocks):\r\n",
                "        for i in range(width - blocks_width[n]+1):\r\n",
                "            for j in range(height - blocks_height[n]+1):\r\n",
                "                for k in range(i, i + blocks_width[n]):\r\n",
                "                    for u in range(j, j + blocks_height[n]):\r\n",
                "                        if(k != i or u != j):\r\n",
                "                            s.add(Implies(p[i][j][n], p[k][u][n + number_of_blocks]))\r\n",
                "\r\n",
                "    sol = []\r\n",
                "    if s.check() == sat:\r\n",
                "        m = s.model()\r\n",
                "        for i in range(width):\r\n",
                "            sol.append([])\r\n",
                "            for j in range(height):\r\n",
                "                for k in range(2*(number_of_blocks) + 1):\r\n",
                "                    if m.evaluate(p[i][j][k]):\r\n",
                "                        sol[i].append(k)\r\n",
                "        print(sol)\r\n",
                "    elif s.reason_unknown() == \"timeout\":\r\n",
                "        print(\"Solver timeout\")\r\n",
                "    else:\r\n",
                "        print(\"Failed to solve\")\r\n",
                "    return sol"
            ],
            "outputs": [],
            "metadata": {}
        },
        {
            "cell_type": "code",
            "execution_count": null,
            "source": [
                "for instance_number in range(40):\r\n",
                "    print(instance_number)\r\n",
                "    number_of_blocks, blocks_width, blocks_height, width = get_variables(instance_number)\r\n",
                "    starting_height = int(sum([blocks_width[i] * blocks_height[i] for i in range(number_of_blocks)]) / width)\r\n",
                "    height_i = starting_height\r\n",
                "    s = Solver()\r\n",
                "\r\n",
                "    times = 300 * 1000 # 300 sec\r\n",
                "    s.set(timeout=times)\r\n",
                "\r\n",
                "    sol = vlsi(s, height_i)\r\n",
                "        \r\n",
                "    if (sol) :\r\n",
                "        start_x = []\r\n",
                "        start_y = []\r\n",
                "        for n in range(number_of_blocks):\r\n",
                "            for i in range(len(sol)):\r\n",
                "                for j in range(len(sol[0])):\r\n",
                "                    if sol[i][j] == n:\r\n",
                "                        start_x.append(i)\r\n",
                "                        start_y.append(j)\r\n",
                "        circuits = [[blocks_width[i], blocks_height[i], start_x[i], start_y[i]] for i in range(number_of_blocks)]\r\n",
                "        plot_solution(width, height_i, circuits, f'output/SAt/images/out-{instance_number+1}.png')\r\n",
                "        output_solution(instances[instance_number], height_i, start_x, start_y, f'output/SAT/solutions/out-{instance_number + 1}.txt')"
            ],
            "outputs": [],
            "metadata": {}
        }
    ],
    "metadata": {
        "orig_nbformat": 4,
        "language_info": {
            "name": "python",
            "version": "3.8.5",
            "mimetype": "text/x-python",
            "codemirror_mode": {
                "name": "ipython",
                "version": 3
            },
            "pygments_lexer": "ipython3",
            "nbconvert_exporter": "python",
            "file_extension": ".py"
        },
        "kernelspec": {
            "name": "python3",
            "display_name": "Python 3.8.5 64-bit ('base': conda)"
        },
        "interpreter": {
            "hash": "cfb3fa0d583c6e1a35f96ea85bd13c3d52c4920039624ca9ab692c5f27068e9b"
        }
    },
    "nbformat": 4,
    "nbformat_minor": 2
}