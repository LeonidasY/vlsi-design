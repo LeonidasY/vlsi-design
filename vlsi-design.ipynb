{
 "cells": [
  {
   "cell_type": "code",
   "execution_count": 1,
   "metadata": {},
   "outputs": [],
   "source": [
    "# !pip install -U iminizinc"
   ]
  },
  {
   "cell_type": "code",
   "execution_count": 2,
   "metadata": {},
   "outputs": [
    {
     "data": {
      "application/javascript": [
       "\"use strict\";\n",
       "\n",
       "CodeMirror.defineMode(\"text/minizinc\", function(config) {\n",
       "\n",
       "  var isOperatorChar = /[+\\-*=<>\\/]/;\n",
       "\n",
       "  var keywords = {\"array\":true,\n",
       "  \"bool\":true,\n",
       "  \"case\":true,\n",
       "  \"constraint\":true,\n",
       "  \"diff\":true,\n",
       "  \"div\":true,\n",
       "  \"else\":true,\n",
       "  \"elseif\":true,\n",
       "  \"endif\":true,\n",
       "  \"enum\":true,\n",
       "  \"false\":true,\n",
       "  \"float\":true,\n",
       "  \"function\":true,\n",
       "  \"if\":true,\n",
       "  \"in\":true,\n",
       "  \"include\":true,\n",
       "  \"int\":true,\n",
       "  \"intersect\":true,\n",
       "  \"let\":true,\n",
       "  \"list\":true,\n",
       "  \"maximize\":true,\n",
       "  \"minimize\":true,\n",
       "  \"mod\":true,\n",
       "  \"not\":true,\n",
       "  \"of\":true,\n",
       "  \"op\":true,\n",
       "  \"output\":true,\n",
       "  \"par\":true,\n",
       "  \"predicate\":true,\n",
       "  \"record\":true,\n",
       "  \"satisfy\":true,\n",
       "  \"set\":true,\n",
       "  \"solve\":true,\n",
       "  \"string\":true,\n",
       "  \"subset\":true,\n",
       "  \"superset\":true,\n",
       "  \"symdiff\":true,\n",
       "  \"test\":true,\n",
       "  \"then\":true,\n",
       "  \"true\":true,\n",
       "  \"tuple\":true,\n",
       "  \"type\":true,\n",
       "  \"union\":true,\n",
       "  \"var\":true,\n",
       "  \"where\":true,\n",
       "  \"xor\":true};\n",
       "\n",
       "  var punc = \":;,.(){}[]\";\n",
       "\n",
       "  function tokenBase(stream, state) {\n",
       "    var ch = stream.next();\n",
       "    if (ch == '\"') {\n",
       "      state.tokenize.push(tokenString);\n",
       "      return tokenString(stream, state);\n",
       "    }\n",
       "    if (/[\\d\\.]/.test(ch)) {\n",
       "      if (ch == \".\") {\n",
       "        stream.match(/^[0-9]+([eE][\\-+]?[0-9]+)?/);\n",
       "      } else if (ch == \"0\") {\n",
       "        stream.match(/^[xX][0-9a-fA-F]+/) || stream.match(/^0[0-7]+/);\n",
       "      } else {\n",
       "        stream.match(/^[0-9]*\\.?[0-9]*([eE][\\-+]?[0-9]+)?/);\n",
       "      }\n",
       "      return \"number\";\n",
       "    }\n",
       "    if (ch == \"/\") {\n",
       "      if (stream.eat(\"*\")) {\n",
       "        state.tokenize.push(tokenComment);\n",
       "        return tokenComment(stream, state);\n",
       "      }\n",
       "    }\n",
       "    if (ch == \"%\") {\n",
       "      stream.skipToEnd();\n",
       "      return \"comment\";\n",
       "    }\n",
       "    if (isOperatorChar.test(ch)) {\n",
       "      stream.eatWhile(isOperatorChar);\n",
       "      return \"operator\";\n",
       "    }\n",
       "    if (punc.indexOf(ch) > -1) {\n",
       "      return \"punctuation\";\n",
       "    }\n",
       "    stream.eatWhile(/[\\w\\$_\\xa1-\\uffff]/);\n",
       "    var cur = stream.current();\n",
       "    if (keywords.propertyIsEnumerable(cur)) {\n",
       "      return \"keyword\";\n",
       "    }\n",
       "    return \"variable\";\n",
       "  }\n",
       "\n",
       "  function tokenComment(stream, state) {\n",
       "    var maybeEnd = false, ch;\n",
       "    while (ch = stream.next()) {\n",
       "      if (ch == \"/\" && maybeEnd) {\n",
       "        state.tokenize.pop();\n",
       "        break;\n",
       "      }\n",
       "      maybeEnd = (ch == \"*\");\n",
       "    }\n",
       "    return \"comment\";\n",
       "  }\n",
       "\n",
       "  function tokenUntilClosingParen() {\n",
       "    var depth = 0;\n",
       "    return function(stream, state, prev) {\n",
       "      var inner = tokenBase(stream, state, prev);\n",
       "      console.log(\"untilClosing\",inner,stream.current());\n",
       "      if (inner == \"punctuation\") {\n",
       "        if (stream.current() == \"(\") {\n",
       "          ++depth;\n",
       "        } else if (stream.current() == \")\") {\n",
       "          if (depth == 0) {\n",
       "            stream.backUp(1)\n",
       "            state.tokenize.pop()\n",
       "            return state.tokenize[state.tokenize.length - 1](stream, state)\n",
       "          } else {\n",
       "            --depth;\n",
       "          }\n",
       "        }\n",
       "      }\n",
       "      return inner;\n",
       "    }\n",
       "  }\n",
       "\n",
       "  function tokenString(stream, state) {\n",
       "    var escaped = false, next, end = false;\n",
       "    while ((next = stream.next()) != null) {\n",
       "      if (next=='(' && escaped) {\n",
       "        state.tokenize.push(tokenUntilClosingParen());\n",
       "        return \"string\";\n",
       "      }\n",
       "      if (next == '\"' && !escaped) {end = true; break;}\n",
       "      escaped = !escaped && next == \"\\\\\";\n",
       "    }\n",
       "    if (end || !escaped)\n",
       "      state.tokenize.pop();\n",
       "    return \"string\";\n",
       "  }\n",
       "\n",
       "  return {\n",
       "    startState: function(basecolumn) {\n",
       "      return {\n",
       "        tokenize: []\n",
       "      };\n",
       "    },\n",
       "\n",
       "    token: function(stream, state) {\n",
       "      if (stream.eatSpace()) return null;\n",
       "      var style = (state.tokenize[state.tokenize.length - 1] || tokenBase)(stream, state);\n",
       "      console.log(\"token\",style);\n",
       "      return style;\n",
       "    },\n",
       "\n",
       "    blockCommentStart: \"/*\",\n",
       "    blockCommentEnd: \"*/\",\n",
       "    lineComment: \"%\"\n",
       "  };\n",
       "});\n",
       "\n",
       "CodeMirror.defineMIME(\"text/minizinc\", \"text/minizinc\");\n",
       "\n",
       "Jupyter.CodeCell.options_default.highlight_modes['magic_text/minizinc'] = {'reg':[/^%%minizinc/]} ;\n",
       "\n",
       "Jupyter.notebook.get_cells().map(function(cell){\n",
       "  if (cell.cell_type == 'code'){ cell.auto_highlight(); }\n",
       "}) ;\n"
      ],
      "text/plain": [
       "<IPython.core.display.Javascript object>"
      ]
     },
     "metadata": {},
     "output_type": "display_data"
    },
    {
     "name": "stdout",
     "output_type": "stream",
     "text": [
      "MiniZinc to FlatZinc converter, version 2.5.5, build 273041792\r\n",
      "Copyright (C) 2014-2021 Monash University, NICTA, Data61\n"
     ]
    }
   ],
   "source": [
    "# Import the necessary libraries\n",
    "import os\n",
    "%reload_ext iminizinc"
   ]
  },
  {
   "cell_type": "markdown",
   "metadata": {},
   "source": [
    "## Data Import"
   ]
  },
  {
   "cell_type": "code",
   "execution_count": 3,
   "metadata": {},
   "outputs": [
    {
     "name": "stdout",
     "output_type": "stream",
     "text": [
      "Number of instances: 40\n"
     ]
    }
   ],
   "source": [
    "# Get all instances from text files\n",
    "instances = []\n",
    "files = os.listdir('input/instances')\n",
    "for file in files:\n",
    "    with open('input/instances/' + file) as f:\n",
    "        content = f.readlines()\n",
    "        content = [x.strip() for x in content] \n",
    "        instances.append(content)\n",
    "        \n",
    "print(f'Number of instances: {len(instances)}')"
   ]
  },
  {
   "cell_type": "markdown",
   "metadata": {},
   "source": [
    "## Constraint Programming"
   ]
  },
  {
   "cell_type": "code",
   "execution_count": 4,
   "metadata": {},
   "outputs": [],
   "source": [
    "NUMBER = 0"
   ]
  },
  {
   "cell_type": "code",
   "execution_count": 5,
   "metadata": {},
   "outputs": [
    {
     "name": "stdout",
     "output_type": "stream",
     "text": [
      "Blocks: ['Block 0', 'Block 1', 'Block 2', 'Block 3']\n"
     ]
    }
   ],
   "source": [
    "# Get the number of blocks\n",
    "BLOCKS = []\n",
    "for n in range(int(instances[NUMBER][1])):\n",
    "    BLOCKS.append(f'Block {n}')\n",
    "\n",
    "print(f'Blocks: {BLOCKS}')"
   ]
  },
  {
   "cell_type": "code",
   "execution_count": 6,
   "metadata": {},
   "outputs": [
    {
     "name": "stdout",
     "output_type": "stream",
     "text": [
      "Block widths: [3, 3, 5, 5]\n",
      "Block heights: [3, 5, 3, 5]\n"
     ]
    }
   ],
   "source": [
    "# Get block lengths and heights\n",
    "BLOCK_WIDTHS = []\n",
    "BLOCK_HEIGHTS = []\n",
    "\n",
    "for value in instances[NUMBER][2:]:\n",
    "    width, height = value.split(' ')\n",
    "    BLOCK_WIDTHS.append(int(width))\n",
    "    BLOCK_HEIGHTS.append(int(height))\n",
    "    \n",
    "print(f'Block widths: {BLOCK_WIDTHS}')\n",
    "print(f'Block heights: {BLOCK_HEIGHTS}')"
   ]
  },
  {
   "cell_type": "code",
   "execution_count": 7,
   "metadata": {},
   "outputs": [
    {
     "name": "stdout",
     "output_type": "stream",
     "text": [
      "Maximum width: 8\n",
      "Maximum height: 16\n"
     ]
    }
   ],
   "source": [
    "# Get the maximum width and height\n",
    "MAX_WIDTH = int(instances[NUMBER][0])\n",
    "MAX_HEIGHT = sum(BLOCK_HEIGHTS)\n",
    "\n",
    "print(f'Maximum width: {MAX_WIDTH}')\n",
    "print(f'Maximum height: {MAX_HEIGHT}')"
   ]
  },
  {
   "cell_type": "code",
   "execution_count": 8,
   "metadata": {},
   "outputs": [],
   "source": [
    "%%minizinc -m bind\n",
    "\n",
    "include \"globals.mzn\";\n",
    "\n",
    "enum BLOCKS;\n",
    "array[BLOCKS] of int: BLOCK_WIDTHS;\n",
    "array[BLOCKS] of int: BLOCK_HEIGHTS;\n",
    "\n",
    "int: MAX_WIDTH;\n",
    "int: MAX_HEIGHT;\n",
    "\n",
    "% Constraints to find y-coordinates\n",
    "array[BLOCKS] of var 0..MAX_HEIGHT: start_y;\n",
    "var 0..MAX_HEIGHT: end_y;\n",
    "\n",
    "constraint cumulative(start_y, BLOCK_HEIGHTS, BLOCK_WIDTHS, MAX_WIDTH);\n",
    "\n",
    "constraint forall(b in BLOCKS)(start_y[b] + BLOCK_HEIGHTS[b] <= end_y);\n",
    "\n",
    "% Constraints to find x-coordinates\n",
    "array[BLOCKS] of var 0..MAX_WIDTH: start_x;\n",
    "\n",
    "constraint cumulative(start_x, BLOCK_WIDTHS, BLOCK_HEIGHTS, end_y);\n",
    "\n",
    "constraint forall(b in BLOCKS)(start_x[b] + BLOCK_WIDTHS[b] <= MAX_WIDTH);\n",
    "\n",
    "solve minimize end_y;"
   ]
  },
  {
   "cell_type": "code",
   "execution_count": 9,
   "metadata": {},
   "outputs": [
    {
     "name": "stdout",
     "output_type": "stream",
     "text": [
      "Minimum height: 8\n",
      "Location x: [5, 5, 0, 0]\n",
      "Location y: [5, 0, 5, 0]\n"
     ]
    }
   ],
   "source": [
    "# Output\n",
    "print(f'Minimum height: {end_y}')\n",
    "print(f'Location x: {start_x}')\n",
    "print(f'Location y: {start_y}')"
   ]
  },
  {
   "cell_type": "markdown",
   "metadata": {},
   "source": [
    "## Data Output"
   ]
  },
  {
   "cell_type": "code",
   "execution_count": 10,
   "metadata": {},
   "outputs": [
    {
     "name": "stdout",
     "output_type": "stream",
     "text": [
      "['8 8', '4', '3 3 5 5', '3 5 5 0', '5 3 0 5', '5 5 0 0']\n"
     ]
    }
   ],
   "source": [
    "# Append the solution to the initial details\n",
    "solution = []\n",
    "for i, x in enumerate(instances[NUMBER]):\n",
    "    if i == 0:\n",
    "        solution.append(x + ' ' + str(end_y))\n",
    "    elif i == 1:\n",
    "        solution.append(x)\n",
    "    else:\n",
    "        solution.append(x + ' ' + str(start_x[i-2]) + ' ' + str(start_y[i-2]))\n",
    "        \n",
    "print(solution)"
   ]
  },
  {
   "cell_type": "code",
   "execution_count": 11,
   "metadata": {},
   "outputs": [],
   "source": [
    "# Write the solution to a text file\n",
    "with open(f'output/cp/out-{NUMBER}.txt', 'w') as output:\n",
    "    for item in solution:\n",
    "        output.write(item)\n",
    "        output.write('\\n')"
   ]
  }
 ],
 "metadata": {
  "kernelspec": {
   "display_name": "Python 3",
   "language": "python",
   "name": "python3"
  },
  "language_info": {
   "codemirror_mode": {
    "name": "ipython",
    "version": 3
   },
   "file_extension": ".py",
   "mimetype": "text/x-python",
   "name": "python",
   "nbconvert_exporter": "python",
   "pygments_lexer": "ipython3",
   "version": "3.8.8"
  }
 },
 "nbformat": 4,
 "nbformat_minor": 4
}
